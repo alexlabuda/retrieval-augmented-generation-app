{
 "cells": [
  {
   "cell_type": "code",
   "execution_count": 1,
   "metadata": {},
   "outputs": [],
   "source": [
    "import getpass\n",
    "import os\n",
    "from dotenv import load_dotenv\n",
    "\n",
    "# # Get API key from .env\n",
    "# # Load environment variables from .env file\n",
    "# load_dotenv()\n",
    "\n",
    "# # Get API key from environment variable\n",
    "# api_key = os.getenv(\"OPENAI_API_KEY\")"
   ]
  },
  {
   "cell_type": "code",
   "execution_count": 2,
   "metadata": {},
   "outputs": [],
   "source": [
    "from langchain.prompts import ChatPromptTemplate\n",
    "from langchain_openai import ChatOpenAI\n",
    "from langchain.document_loaders import PyPDFLoader\n",
    "from langchain_text_splitters import RecursiveCharacterTextSplitter\n",
    "from langchain.vectorstores import FAISS\n",
    "from langchain_openai import OpenAIEmbeddings\n",
    "from langchain_ollama import OllamaLLM"
   ]
  },
  {
   "cell_type": "code",
   "execution_count": 47,
   "metadata": {},
   "outputs": [],
   "source": [
    "current_dir = os.getcwd()\n",
    "file_path   = os.path.join(current_dir, \"data\", \"codes-greenville-ny.pdf\")\n",
    "db_dir      = os.path.join(current_dir, \"db\")\n",
    "\n",
    "# Check if the text file exists\n",
    "if not os.path.exists(file_path):\n",
    "    raise FileNotFoundError(\n",
    "        f\"The file {file_path} does not exist. Please check the path.\"\n",
    "    )\n"
   ]
  },
  {
   "cell_type": "code",
   "execution_count": 48,
   "metadata": {},
   "outputs": [],
   "source": [
    "pages = PyPDFLoader(file_path).load()"
   ]
  },
  {
   "cell_type": "code",
   "execution_count": 49,
   "metadata": {},
   "outputs": [],
   "source": [
    "# Define the embedding model\n",
    "embeddings = OpenAIEmbeddings(\n",
    "    model=\"text-embedding-3-small\"\n",
    ")"
   ]
  },
  {
   "cell_type": "code",
   "execution_count": 26,
   "metadata": {},
   "outputs": [],
   "source": [
    "# Function to create and persist vector store\n",
    "def create_vector_store(docs, store_name):\n",
    "    persistent_directory = os.path.join(db_dir, store_name)\n",
    "    if not os.path.exists(persistent_directory):\n",
    "        print(f\"\\n--- Creating vector store {store_name} ---\")\n",
    "        db = FAISS.from_documents(\n",
    "            docs, embeddings\n",
    "        )\n",
    "        db.save_local(persistent_directory)\n",
    "        print(f\"--- Finished creating vector store {store_name} ---\")\n",
    "    else:\n",
    "        print(\n",
    "            f\"Vector store {store_name} already exists. No need to initialize.\")"
   ]
  },
  {
   "cell_type": "code",
   "execution_count": 50,
   "metadata": {},
   "outputs": [],
   "source": [
    "text_splitter = RecursiveCharacterTextSplitter(chunk_size = 1000, chunk_overlap = 100)\n",
    "pages  = text_splitter.split_documents(pages)"
   ]
  },
  {
   "cell_type": "code",
   "execution_count": 11,
   "metadata": {},
   "outputs": [
    {
     "name": "stdout",
     "output_type": "stream",
     "text": [
      "\n",
      "--- Creating vector store FAISS ---\n",
      "--- Finished creating vector store FAISS ---\n"
     ]
    }
   ],
   "source": [
    "create_vector_store(pages, \"FAISS\")"
   ]
  },
  {
   "cell_type": "code",
   "execution_count": 43,
   "metadata": {},
   "outputs": [],
   "source": [
    "def query_vector_store(store_name):\n",
    "    persistent_directory = os.path.join(db_dir, store_name)\n",
    "    if os.path.exists(persistent_directory):\n",
    "        print(f\"\\n--- Initializing Vectorstore: {store_name} ---\")\n",
    "        # print paths\n",
    "        print(f\"Persistent directory: {persistent_directory}\")\n",
    "        db = FAISS.load_local(\"db/FAISS\", OpenAIEmbeddings(), allow_dangerous_deserialization = True)\n",
    "        retriever = db.as_retriever(\n",
    "            search_type=\"similarity_score_threshold\",\n",
    "            search_kwargs={\"k\": 3, \"score_threshold\": 0.8},\n",
    "        )\n",
    "\n",
    "        return retriever\n",
    "    else:\n",
    "        print(f\"Vector store {store_name} does not exist.\")\n",
    "        return None"
   ]
  },
  {
   "cell_type": "code",
   "execution_count": 44,
   "metadata": {},
   "outputs": [
    {
     "name": "stdout",
     "output_type": "stream",
     "text": [
      "\n",
      "--- Initializing Vectorstore: FAISS ---\n",
      "Persistent directory: /Users/alex.labuda/Documents/alex_labuda/scripts/python/LLMs/rag-citations/db/FAISS\n"
     ]
    },
    {
     "name": "stderr",
     "output_type": "stream",
     "text": [
      "/Users/alex.labuda/Documents/alex_labuda/scripts/python/LLMs/rag-citations/venv/lib/python3.10/site-packages/langchain_core/vectorstores/base.py:784: UserWarning: Relevance scores must be between 0 and 1, got [(Document(metadata={'source': '/Users/alex.labuda/Documents/alex_labuda/scripts/python/LLMs/rag-citations/data/codes-greenville-ny.pdf', 'page': 187}, page_content='§144-5. Penalties for offenses.\\nAny person who violates any provision of this chapter shall be guilty of a violation and, upon conviction\\nthereof, shall be fined in the following manner.\\n§144-6. Temporary confiscation of equipment.\\nAuthorized law enforcement officers are hereby authorized to temporarily confiscate a sound-reproduction\\ndevice upon the issuance of an appearance ticket for violating the provisions of this chapter as evidence\\nuntil the prosecution of this violation has concluded.\\n§144-7. Enforcement.\\nEnforcement shall be the responsibility of authorized law enforcement officers.E. Noise generated by the installation and maintenance of utilities.\\nF. Sounds created by lawn mowers, leaf blowers, or other yard maintenance devices with an operating\\nmuffler or sound-dissipating device as designed by the manufacturer between the hours of 7:00 a.m.\\nand 9:00 p.m. on weekdays and 8:00 a.m. and 9:00 p.m. on weekends.'), -0.3087646762097487), (Document(metadata={'source': '/Users/alex.labuda/Documents/alex_labuda/scripts/python/LLMs/rag-citations/data/codes-greenville-ny.pdf', 'page': 125}, page_content='§85-7. Filing of copies of notice.\\nA copy of the notice served as provided herein shall be filed in the office of the Clerk of the County of\\nOrange and with the Town Clerk of the Town of Greenville.\\n§85-8. Failure to comply.\\nIn the event of the refusal or neglect of the person so notified to comply with the order of the Town Board\\nand after the hearing, the Town Board shall provide for the repair, securing or demolition and removal,\\nas the case may be, of such building or property either by Town employees or by contract. Except in\\nemergency cases as provided for herein, any contract for repair, securing or demolition and removal, as the\\ncase may be, shall be awarded in accordance with the provisions of the General Municipal Law of the State\\nof New York.\\n§85-9. Assessment of expenses.\\nAll expenses incurred by the Town in connection with the proceedings to repair and secure or demolish and'), -0.31338346504436054), (Document(metadata={'source': '/Users/alex.labuda/Documents/alex_labuda/scripts/python/LLMs/rag-citations/data/codes-greenville-ny.pdf', 'page': 109}, page_content='§79-8. Notification regarding fire or explosion.\\nThe chief of any fire department providing fire-fighting services for a property within this Town shall\\npromptly notify the Code Enforcement Officer of any fire or explosion involving any structural damage,\\nfuel-burning appliance, chimney or gas vent.\\n§79-9. Unsafe building and structures.\\nUnsafe structures and equipment in this Town shall be identified and addressed in accordance with the\\nprocedures established in Chapter 85, Buildings, usafe, of the Town Code and/or the applicable provisions\\nof the Fire and Property Maintenance Codes of New York State, as now in effect or as hereafter amended\\nfrom time to time.\\n§79-10. Operating permits.installed is operational; and that all required means of egress from the building or structure have\\nbeen provided. The Code Enforcement Officer may include in a temporary certificate such terms and\\nconditions as he or she deems necessary or appropriate to ensure safety or to further the purposes'), -0.3141419397301626)]\n",
      "  warnings.warn(\n",
      "/Users/alex.labuda/Documents/alex_labuda/scripts/python/LLMs/rag-citations/venv/lib/python3.10/site-packages/langchain_core/vectorstores/base.py:796: UserWarning: No relevant docs were retrieved using the relevance score threshold 0.8\n",
      "  warnings.warn(\n"
     ]
    },
    {
     "data": {
      "text/plain": [
       "[]"
      ]
     },
     "execution_count": 44,
     "metadata": {},
     "output_type": "execute_result"
    }
   ],
   "source": [
    "# retriever = query_vector_store(\"FAISS\")\n",
    "retriever = query_vector_store(\"FAISS\")\n",
    "retriever.invoke(\"Tell me about the town of Greenville\")"
   ]
  },
  {
   "cell_type": "code",
   "execution_count": 30,
   "metadata": {},
   "outputs": [
    {
     "name": "stderr",
     "output_type": "stream",
     "text": [
      "/Users/alex.labuda/Documents/alex_labuda/scripts/python/LLMs/rag-citations/venv/lib/python3.10/site-packages/langchain_core/vectorstores/base.py:784: UserWarning: Relevance scores must be between 0 and 1, got [(Document(metadata={'source': '/Users/alex.labuda/Documents/alex_labuda/scripts/python/LLMs/rag-citations/data/codes-greenville-ny.pdf', 'page': 187}, page_content='§144-5. Penalties for offenses.\\nAny person who violates any provision of this chapter shall be guilty of a violation and, upon conviction\\nthereof, shall be fined in the following manner.\\n§144-6. Temporary confiscation of equipment.\\nAuthorized law enforcement officers are hereby authorized to temporarily confiscate a sound-reproduction\\ndevice upon the issuance of an appearance ticket for violating the provisions of this chapter as evidence\\nuntil the prosecution of this violation has concluded.\\n§144-7. Enforcement.\\nEnforcement shall be the responsibility of authorized law enforcement officers.E. Noise generated by the installation and maintenance of utilities.\\nF. Sounds created by lawn mowers, leaf blowers, or other yard maintenance devices with an operating\\nmuffler or sound-dissipating device as designed by the manufacturer between the hours of 7:00 a.m.\\nand 9:00 p.m. on weekdays and 8:00 a.m. and 9:00 p.m. on weekends.'), -0.2972526860074831), (Document(metadata={'source': '/Users/alex.labuda/Documents/alex_labuda/scripts/python/LLMs/rag-citations/data/codes-greenville-ny.pdf', 'page': 6}, page_content='Chapter 5\\nAPPEARANCE TICKETS\\n§5-1. Purpose. §5-2. Authorized officials.\\n§5-3. Manner of service.\\n[HISTORY: Adopted by the Town Board of the Town of Greenville 7-20-1983 byL.L. No. 5-1983 .\\nAmendments noted where applicable.]\\n§5-1. Purpose.\\nThe purpose of this chapter is to authorize designated public officials of the Town of Greenville to issue\\nand serve appearance tickets in connection with violations of state statutes, local laws, ordinances or rules\\nand regulations of the Town which the public officials are authorized or required to enforce.\\n§5-2. Authorized officials.\\nThe following public officials of the Town of Greenville are hereby designated and authorized to issue\\nand serve an appearance ticket with respect to violations of state statutes, local laws, ordinances or rules\\nand regulations of the Town that such designated public officials are respectively required or authorized to\\nenforce:\\nDesignated Public Official Enforcement Area\\nTown Engineer and/or Town Building Inspector'), -0.30972688876125254), (Document(metadata={'source': '/Users/alex.labuda/Documents/alex_labuda/scripts/python/LLMs/rag-citations/data/codes-greenville-ny.pdf', 'page': 229}, page_content=\"an amount based on at least 10% of the performance bond estimate and which shall be adequate to\\nassure the satisfactory condition of the initial public improvements for a period of one year following\\ntheir completion and acceptance by the Municipal Legislature. Such bond shall be satisfactory to the\\nMunicipal Attorney as to form, manner of execution and surety.\\nE. Modification of design improvements. If at any time before or during the construction of the required\\nimprovements it is demonstrated to the satisfaction of the Municipal Engineer that unforeseen\\nconditions make it necessary or preferable to modify the location or design of such required\\nimprovements, the Municipal Engineer may, upon approval by a previously delegated member of the\\nPlanning Board, authorize modifications, provided that these modifications are within the spirit and\\nintent of the Planning Board's approval and do not extend to the waiver or substantial alteration of the\"), -0.31089275488476087)]\n",
      "  warnings.warn(\n",
      "/Users/alex.labuda/Documents/alex_labuda/scripts/python/LLMs/rag-citations/venv/lib/python3.10/site-packages/langchain_core/vectorstores/base.py:796: UserWarning: No relevant docs were retrieved using the relevance score threshold 0.2\n",
      "  warnings.warn(\n"
     ]
    }
   ],
   "source": [
    "result = retriever.invoke(\"What do I need to know about septics?\")\n"
   ]
  },
  {
   "cell_type": "code",
   "execution_count": 31,
   "metadata": {},
   "outputs": [
    {
     "data": {
      "text/plain": [
       "[]"
      ]
     },
     "execution_count": 31,
     "metadata": {},
     "output_type": "execute_result"
    }
   ],
   "source": [
    "result"
   ]
  },
  {
   "cell_type": "code",
   "execution_count": 51,
   "metadata": {},
   "outputs": [],
   "source": [
    "faiss_index = FAISS.from_documents(pages, OpenAIEmbeddings())\n",
    "retriever = faiss_index.as_retriever()\n",
    "# docs = faiss_index.similarity_search(\"What is LayoutParser?\", k=2)\n",
    "# for doc in docs:\n",
    "#     print(str(doc.metadata[\"page\"]) + \":\", doc.page_content[:300])\n",
    "\n",
    "# Save embeddings for later use\n",
    "faiss_index.save_local(\"faiss_index\")"
   ]
  },
  {
   "cell_type": "code",
   "execution_count": 13,
   "metadata": {},
   "outputs": [],
   "source": [
    "new_db = FAISS.load_local(\"faiss_index\", OpenAIEmbeddings(), allow_dangerous_deserialization = True)"
   ]
  },
  {
   "cell_type": "code",
   "execution_count": 14,
   "metadata": {},
   "outputs": [
    {
     "name": "stdout",
     "output_type": "stream",
     "text": [
      "================================\u001b[1m System Message \u001b[0m================================\n",
      "\n",
      "You're a helpful AI assistant. Given a user question and some county code pages, answer the user question. If none of the pages can answer the question, just say you don't know.\n",
      "\n",
      "Here are the county code pages:\u001b[33;1m\u001b[1;3m{context}\u001b[0m\n",
      "\n",
      "================================\u001b[1m Human Message \u001b[0m=================================\n",
      "\n",
      "\u001b[33;1m\u001b[1;3m{question}\u001b[0m\n"
     ]
    }
   ],
   "source": [
    "llm = OllamaLLM(model = \"llama3\", temperature=0)\n",
    "\n",
    "system_prompt = (\n",
    "    \"You're a helpful AI assistant. Given a user question and some county code pages, answer the user question. If none of the pages can answer the question, just say you don't know.\\n\\nHere are the county code pages:{context}\"\n",
    ")\n",
    "\n",
    "prompt = ChatPromptTemplate.from_messages(\n",
    "    [\n",
    "        (\"system\", system_prompt),\n",
    "        (\"human\", \"{question}\")\n",
    "    ]\n",
    ")\n",
    "prompt.pretty_print()"
   ]
  },
  {
   "cell_type": "code",
   "execution_count": 15,
   "metadata": {},
   "outputs": [],
   "source": [
    "from operator import itemgetter\n",
    "from typing import List\n",
    "\n",
    "from langchain_core.documents import Document\n",
    "from langchain_core.output_parsers import StrOutputParser\n",
    "from langchain_core.runnables import (\n",
    "    RunnableLambda,\n",
    "    RunnableParallel,\n",
    "    RunnablePassthrough,\n",
    ")\n",
    "\n",
    "\n",
    "def format_docs(docs: List[Document]) -> str:\n",
    "    \"\"\"Convert Documents to a single string.\"\"\"\n",
    "    formatted = [\n",
    "        f\"Page Number: {doc.metadata.get('page_number', 'Unknown')}\\nPage Content: {doc.page_content}\"\n",
    "        for doc in docs\n",
    "    ]\n",
    "    return \"\\n\\n\" + \"\\n\\n\".join(formatted)\n",
    "\n",
    "\n",
    "format = itemgetter(\"docs\") | RunnableLambda(format_docs)\n",
    "# subchain for generating an answer once we've done retrieval\n",
    "answer = prompt | llm | StrOutputParser()\n",
    "# complete chain that calls wiki -> formats docs to string -> runs answer subchain -> returns just the answer and retrieved docs.\n",
    "chain = (\n",
    "    RunnableParallel(question=RunnablePassthrough(), docs=retriever)\n",
    "    .assign(context=format)\n",
    "    .assign(answer=answer)\n",
    "    .pick([\"answer\", \"docs\"])\n",
    ")"
   ]
  },
  {
   "cell_type": "code",
   "execution_count": 23,
   "metadata": {},
   "outputs": [],
   "source": [
    "result = chain.invoke(\"Tell me about bulk mailing from the provided information.\")"
   ]
  },
  {
   "cell_type": "code",
   "execution_count": 24,
   "metadata": {},
   "outputs": [
    {
     "name": "stdout",
     "output_type": "stream",
     "text": [
      "dict_keys(['answer', 'docs'])\n"
     ]
    }
   ],
   "source": [
    "print(result.keys())"
   ]
  },
  {
   "cell_type": "code",
   "execution_count": 25,
   "metadata": {},
   "outputs": [
    {
     "name": "stdout",
     "output_type": "stream",
     "text": [
      "Based on the provided county code pages, I can tell you that \"bulk mailings\" refer to any letter or document sent to or intended to be sent to 10 or more residents of the Town of Greenville from any member of the Town Board concerning official business of the Town of Greenville in which any portion thereof is paid for by the Town of Greenville through goods, job and/or services. This includes a mailing by any member of the Town Board in connection with any political campaign for elective office currently being sought by such Town Board member.\n",
      "\n",
      "According to §8-2 of the code, approval of the Town Board is required before transmitting any bulk mailing. Additionally, no Town official or employee shall participate in the distribution or transmission of any bulk mailing without prior approval from the Town Board. Any violation of this chapter by a Town official or employee shall render such official or employee liable to the Town for any damages resulting from such unauthorized activity.\n"
     ]
    }
   ],
   "source": [
    "print(result['answer'])"
   ]
  },
  {
   "cell_type": "code",
   "execution_count": 19,
   "metadata": {},
   "outputs": [
    {
     "name": "stdout",
     "output_type": "stream",
     "text": [
      "page_content='Chapter 8\n",
      "BULK MAILINGS\n",
      "§8-1. Definitions.\n",
      "§8-2. Approval of Town Board\n",
      "required; distribution;\n",
      "transmittal.§8-3. Copies distributed.\n",
      "§8-4. Penalties for offenses.\n",
      "[HISTORY: Adopted by the Town Board of the Town of Greenville 10-4-1999 . Amendments noted\n",
      "where applicable.]\n",
      "§8-1. Definitions.\n",
      "As used in this chapter, the following terms shall have the meanings indicated:\n",
      "BULK MAILING —Any letter or other document sent to or intended to be sent to 10 or more residents\n",
      "of the Town of Greenville from any member of the Town Board concerning official business of the Town\n",
      "of Greenville in which any portion thereof is paid for by the Town of Greenville through goods, job and\n",
      "or services, and includes a mailing by any member of the Town Board in connection with any political\n",
      "campaign for elective office currently being sought by such Town Board member.\n",
      "§8-2. Approval of Town Board required; distribution; transmittal.\n",
      "§8-3. Copies distributed.\n",
      "A copy of this chapter shall be distributed by the Town Clerk to all officials and employees of the Town of\n",
      "Greenville.\n",
      "§8-4. Penalties for offenses.\n",
      "Any violation of this chapter by a Town official or employee shall render such official or employee liable\n",
      "to the Town for any costs associated with the distribution of any bulk mailing not approved by the Town\n",
      "Board.A. A bulk mailing may not be transmitted without prior approval of the Town Board.\n",
      "B. No Town of Greenville elected or appointed official or employee is to participate in the distribution\n",
      "or transmittal of any bulk mailing without the prior approval of the Town Board.Town of Greenville, NY\n",
      "GREENVILLE CODE\n",
      "Downloaded from https://ecode360.com/GR1575 on 2024-07-23' metadata={'source': 'data/codes-greenville-ny.pdf', 'page': 7}\n"
     ]
    }
   ],
   "source": [
    "print(result['docs'][0])"
   ]
  },
  {
   "cell_type": "code",
   "execution_count": 36,
   "metadata": {},
   "outputs": [],
   "source": [
    "result = chain.invoke(\"What soil types are suitable for building new homes?\")"
   ]
  },
  {
   "cell_type": "code",
   "execution_count": 37,
   "metadata": {},
   "outputs": [
    {
     "name": "stdout",
     "output_type": "stream",
     "text": [
      "Based on the provided county code pages, it appears that soils in Group I and Group IV are suitable for building new homes.\n",
      "\n",
      "Group I soils are developed in sands and gravel, are well-drained, and have moderately rapid to very rapid permeability. These soils can be used for on-site septic systems and have slight limitations for septic systems on A and B slopes and moderate limitations on C slopes. Buildings with and without basements may be installed on these soils.\n",
      "\n",
      "Group IV soils are developed in coarse silts and loam, are well to moderately well-drained, and have a firm fragipan. These soils can also be used for on-site septic systems that are adequately designed to overcome the noted limitations.\n",
      "\n",
      "Please note that it's always recommended to conduct an on-site investigation or consult with a registered soils engineer to determine the specific soil type and its properties before building new homes.\n"
     ]
    }
   ],
   "source": [
    "print(result['answer'])"
   ]
  },
  {
   "cell_type": "code",
   "execution_count": 35,
   "metadata": {},
   "outputs": [
    {
     "name": "stdout",
     "output_type": "stream",
     "text": [
      "page_content='site septic systems may also be used in cases where the extreme stoniness of the Bath\n",
      "Swartswood (020) soils is found to be only a surface condition. On-site investigation\n",
      "is necessary to determine the extent of stoniness or the bedrock condition of these\n",
      "soils. The soils have severe limitations for septic systems.\n",
      "[2] Buildings with and without basements may be installed on these soils if adequate\n",
      "foundation drainage is provided to a free-flowing outlet. These soils have moderate\n",
      "to severe limitations for homesites.\n",
      "[3] Erodability on these soils is low to medium. Erosion may be a problem on the C\n",
      "slopes.\n",
      "(7) Group VII: soils developed in silts, clays and very fine sands that are wet, nearly level to gently\n",
      "sloping.\n",
      "(a) Characteristics. The soils in this group are somewhat poorly drained and occur in concave\n",
      "areas in the glacial till upland. These soils are very fine sands through silty clay loam\n",
      "texture. Permeability is slow to very slow. The seasonal high water table is 1/2 foot to 1\n",
      "1/2 feet. Bedrock is generally six feet plus. These soils are subject to ponding. Soils in this\n",
      "group are: 4A, 4B, 7, 25A, 42A, 42B, 81, 85A, 85B and 025B.\n",
      "(b) Use and requirements.\n",
      "[1] Septic systems shall not be installed on these soils. (See the Soils Interpretation\n",
      "Report for Orange County.)\n",
      "[2] Homesites with basements shall not be installed on these soils. Homesites without\n",
      "basements may be installed if adequate drainage is provided to a free-flowing outlet.\n",
      "[3] Erosion on these soils ranges from low to high.\n",
      "[4] Red Hook (7) and Raynham (81) are placed in this group, but, in some cases, these\n",
      "soils are subject to ponding and flooding. On-site investigation is necessary to\n",
      "determine the location of these soils on the landscape.\n",
      "(8) Group VIII: soils developed in silts that are influenced by bedrock, nearly level through sloping.\n",
      "(a) Characteristics. The soils in this group occur mostly in the rougher areas of the upland.\n",
      "The soils are underlain by hard bedrock, and some areas contain exposed rock outcrops. In\n",
      "most places, hardrock is found from 20 inches to 40 inches below the soil's surface.\n",
      "Permeability is moderate to slow above the bedrock. Where limestone bedrock occurs,\n",
      "severe cracks and voids in the rock must be considered. Slope ranges from 0% to 15%.\n",
      "Soils included in this group are: 3A, 3B, 3C, 48B, 48C, 75AB, 75C, 070BC, 071BC,\n",
      "073AC, 074AC, 077AC and 080AB.\n",
      "(b) Use and requirements.\n",
      "[1] Septic systems shall not be installed on these soils.\n",
      "[2] Homesites may be installed on these soils, but adequate foundation drainage should\n",
      "be provided to a free-flowing outlet.\n",
      "[3] Erodability on these soils is low to medium. Erosion may be a problem on the C\n",
      "slopes.Town of Greenville, NY\n",
      "§181-29 SUBDIVISION OF LAND §181-29\n",
      "Downloaded from https://ecode360.com/GR1575 on 2024-07-23' metadata={'source': 'data/codes-greenville-ny.pdf', 'page': 256}\n"
     ]
    }
   ],
   "source": [
    "print(result['docs'][0])"
   ]
  },
  {
   "cell_type": "code",
   "execution_count": null,
   "metadata": {},
   "outputs": [],
   "source": []
  }
 ],
 "metadata": {
  "kernelspec": {
   "display_name": "venv",
   "language": "python",
   "name": "python3"
  },
  "language_info": {
   "codemirror_mode": {
    "name": "ipython",
    "version": 3
   },
   "file_extension": ".py",
   "mimetype": "text/x-python",
   "name": "python",
   "nbconvert_exporter": "python",
   "pygments_lexer": "ipython3",
   "version": "3.10.0"
  }
 },
 "nbformat": 4,
 "nbformat_minor": 2
}
